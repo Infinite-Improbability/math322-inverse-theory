{
 "cells": [
  {
   "cell_type": "markdown",
   "metadata": {},
   "source": [
    "# General Notes\n",
    "By Ryan Cox\n",
    "\n",
    "I find version control useful for me so I'm keeping my work in a git repo. You can find it here: https://github.com/Infinite-Improbability/math322-inverse-theory\n",
    "\n",
    "My experience, as discussed, is in Python. However, I decided that if I'm going to be doing a lot of matrix work I'd use something with native support and better performance. MatLab is, of course, great with matrices but I prefer something a bit more open. Enter Julia, which is both fast and designed with linear algebra and scientific computing in mind. I've been interested in learning it, so here we go."
   ]
  },
  {
   "cell_type": "markdown",
   "metadata": {},
   "source": [
    "# Problem 1.1\n",
    "\n",
    "We are measuring subsets of objects. The data is the measured masses of the subsets (mostly triplets of objects). The parameters are the masses of the individual objects. There are 100 data values and 100 parameters."
   ]
  },
  {
   "cell_type": "code",
   "execution_count": 48,
   "metadata": {},
   "outputs": [],
   "source": [
    "# Lets find the matrix G such that d=Gm\n",
    "#= NB: Julia's compiler apparently has better performance for functions than top level code\n",
    "We don't need the performance gains here but I'll do it anyway to develop the habit.\n",
    "Likewise, we'll use a sparse array. It won't matter for the relatively small matrices we're working with here,\n",
    "but it may help if the function is used for something large.\n",
    "\n",
    "Using a dense matrix causes an out of memory error with a large matrix (N=100000).\n",
    "An alternate version of the below code involved insertions into a sparse matrix. That takes ~5.7s with N=100000. It can be viewed on commit 4c7e7ae\n",
    "The following version is harder to read but handles N=100000 in ~0.0088s.\n",
    "\n",
    "Yes, I know all this optimisation wasn't necessary. But it was fun!\n",
    "=#\n",
    "\n",
    "using SparseArrays\n",
    "\n",
    "\"\"\"Make NxN square matrix and fill it with triplets of a coefficent a.\n",
    "In a row with index r, the cells [r, r], [r, r-1], [r, r-2] are filled.\n",
    "Argument a multipes the entire matrix by scalar a.\n",
    "For example TripletsMatrix(5, 1) produces the sparse matrix\n",
    "   [1 0 0 0 0;\n",
    "    1 1 0 0 0;\n",
    "    1 1 1 0 0;\n",
    "    0 1 1 1 0;\n",
    "    0 0 1 1 1]\"\"\"\n",
    "function TripletsMatrix(N::Int, a=1::Number)::SparseMatrixCSC  # a is probably unneccessary (vs hardcoding a=1) except in some odd cases, but including it is trivial.\n",
    "    #= We are creating a matrix with COO, a coordinate list.\n",
    "    For some k, row[k] gives row index, col[k] gives col index and val[k] gives the value for that coordinate pair.\n",
    "    We create the matrices in advance then increment over vector coordiantes with k because it is reportedly faster than appending to matrices. =#\n",
    "    \n",
    "    if N < 2 error(\"N should be at least 2.\") end\n",
    "    \n",
    "    col = Vector{Int64}(undef, 3*(N-1)) # 3*(N-1) should be the amount of nonzero values <- 3 from the first two rows and 3*(N-2) from the rest.\n",
    "    row = Vector{Int64}(undef, 3*(N-1))\n",
    "    val = Vector{Float64}(undef, 3*(N-1))\n",
    "    k = 1 # This tracks our location in the COO vectors\n",
    "    for i = 1:N # Row index.\n",
    "        for j in i-2:i # Column index, for non-zero values. We don't write to any columns higher than i so this doesn't do anything weird in the last row.\n",
    "            if j > 0 # To handle first two rows.\n",
    "                col[k] = j\n",
    "                row[k] = i\n",
    "                val[k] = a\n",
    "                k += 1\n",
    "            end\n",
    "        end\n",
    "    end\n",
    "    sparse(row, col, val) # Takes our vectors and turns them into a sparse matrix\n",
    "end;"
   ]
  },
  {
   "cell_type": "code",
   "execution_count": 40,
   "metadata": {},
   "outputs": [
    {
     "data": {
      "text/plain": [
       "100×100 SparseMatrixCSC{Float64, Int64} with 297 stored entries:\n",
       "⠷⣄⠀⠀⠀⠀⠀⠀⠀⠀⠀⠀⠀⠀⠀⠀⠀⠀⠀⠀⠀⠀⠀⠀⠀⠀⠀⠀⠀⠀⠀⠀⠀⠀⠀⠀⠀⠀⠀⠀\n",
       "⠀⠙⠷⣄⠀⠀⠀⠀⠀⠀⠀⠀⠀⠀⠀⠀⠀⠀⠀⠀⠀⠀⠀⠀⠀⠀⠀⠀⠀⠀⠀⠀⠀⠀⠀⠀⠀⠀⠀⠀\n",
       "⠀⠀⠀⠙⠷⣄⠀⠀⠀⠀⠀⠀⠀⠀⠀⠀⠀⠀⠀⠀⠀⠀⠀⠀⠀⠀⠀⠀⠀⠀⠀⠀⠀⠀⠀⠀⠀⠀⠀⠀\n",
       "⠀⠀⠀⠀⠀⠙⠷⣄⠀⠀⠀⠀⠀⠀⠀⠀⠀⠀⠀⠀⠀⠀⠀⠀⠀⠀⠀⠀⠀⠀⠀⠀⠀⠀⠀⠀⠀⠀⠀⠀\n",
       "⠀⠀⠀⠀⠀⠀⠀⠙⠷⣄⠀⠀⠀⠀⠀⠀⠀⠀⠀⠀⠀⠀⠀⠀⠀⠀⠀⠀⠀⠀⠀⠀⠀⠀⠀⠀⠀⠀⠀⠀\n",
       "⠀⠀⠀⠀⠀⠀⠀⠀⠀⠙⠷⣄⠀⠀⠀⠀⠀⠀⠀⠀⠀⠀⠀⠀⠀⠀⠀⠀⠀⠀⠀⠀⠀⠀⠀⠀⠀⠀⠀⠀\n",
       "⠀⠀⠀⠀⠀⠀⠀⠀⠀⠀⠀⠙⠷⣄⠀⠀⠀⠀⠀⠀⠀⠀⠀⠀⠀⠀⠀⠀⠀⠀⠀⠀⠀⠀⠀⠀⠀⠀⠀⠀\n",
       "⠀⠀⠀⠀⠀⠀⠀⠀⠀⠀⠀⠀⠀⠙⠷⣄⠀⠀⠀⠀⠀⠀⠀⠀⠀⠀⠀⠀⠀⠀⠀⠀⠀⠀⠀⠀⠀⠀⠀⠀\n",
       "⠀⠀⠀⠀⠀⠀⠀⠀⠀⠀⠀⠀⠀⠀⠀⠙⠷⣄⠀⠀⠀⠀⠀⠀⠀⠀⠀⠀⠀⠀⠀⠀⠀⠀⠀⠀⠀⠀⠀⠀\n",
       "⠀⠀⠀⠀⠀⠀⠀⠀⠀⠀⠀⠀⠀⠀⠀⠀⠀⠙⠷⣄⠀⠀⠀⠀⠀⠀⠀⠀⠀⠀⠀⠀⠀⠀⠀⠀⠀⠀⠀⠀\n",
       "⠀⠀⠀⠀⠀⠀⠀⠀⠀⠀⠀⠀⠀⠀⠀⠀⠀⠀⠀⠙⢳⣄⠀⠀⠀⠀⠀⠀⠀⠀⠀⠀⠀⠀⠀⠀⠀⠀⠀⠀\n",
       "⠀⠀⠀⠀⠀⠀⠀⠀⠀⠀⠀⠀⠀⠀⠀⠀⠀⠀⠀⠀⠀⠙⢳⣄⠀⠀⠀⠀⠀⠀⠀⠀⠀⠀⠀⠀⠀⠀⠀⠀\n",
       "⠀⠀⠀⠀⠀⠀⠀⠀⠀⠀⠀⠀⠀⠀⠀⠀⠀⠀⠀⠀⠀⠀⠀⠙⢳⣄⠀⠀⠀⠀⠀⠀⠀⠀⠀⠀⠀⠀⠀⠀\n",
       "⠀⠀⠀⠀⠀⠀⠀⠀⠀⠀⠀⠀⠀⠀⠀⠀⠀⠀⠀⠀⠀⠀⠀⠀⠀⠙⢳⣄⠀⠀⠀⠀⠀⠀⠀⠀⠀⠀⠀⠀\n",
       "⠀⠀⠀⠀⠀⠀⠀⠀⠀⠀⠀⠀⠀⠀⠀⠀⠀⠀⠀⠀⠀⠀⠀⠀⠀⠀⠀⠙⢳⣄⠀⠀⠀⠀⠀⠀⠀⠀⠀⠀\n",
       "⠀⠀⠀⠀⠀⠀⠀⠀⠀⠀⠀⠀⠀⠀⠀⠀⠀⠀⠀⠀⠀⠀⠀⠀⠀⠀⠀⠀⠀⠙⢳⣄⠀⠀⠀⠀⠀⠀⠀⠀\n",
       "⠀⠀⠀⠀⠀⠀⠀⠀⠀⠀⠀⠀⠀⠀⠀⠀⠀⠀⠀⠀⠀⠀⠀⠀⠀⠀⠀⠀⠀⠀⠀⠙⢳⣄⠀⠀⠀⠀⠀⠀\n",
       "⠀⠀⠀⠀⠀⠀⠀⠀⠀⠀⠀⠀⠀⠀⠀⠀⠀⠀⠀⠀⠀⠀⠀⠀⠀⠀⠀⠀⠀⠀⠀⠀⠀⠙⢳⣄⠀⠀⠀⠀\n",
       "⠀⠀⠀⠀⠀⠀⠀⠀⠀⠀⠀⠀⠀⠀⠀⠀⠀⠀⠀⠀⠀⠀⠀⠀⠀⠀⠀⠀⠀⠀⠀⠀⠀⠀⠀⠙⢳⣄⠀⠀\n",
       "⠀⠀⠀⠀⠀⠀⠀⠀⠀⠀⠀⠀⠀⠀⠀⠀⠀⠀⠀⠀⠀⠀⠀⠀⠀⠀⠀⠀⠀⠀⠀⠀⠀⠀⠀⠀⠀⠙⢳⣄"
      ]
     },
     "metadata": {},
     "output_type": "display_data"
    },
    {
     "name": "stdout",
     "output_type": "stream",
     "text": [
      "\n",
      "While this appears to show only two values in some places inspection of those rows, as below, shows this is not the case.\n",
      "I was confused as to why, until a friend realised it uses Braille characters to represent the structure, so it isn't a perfect representation.\n",
      "Row 4, non-zero values:\n",
      "  [2  ]  =  1.0\n",
      "  [3  ]  =  1.0\n",
      "  [4  ]  =  1.0\n",
      "\n",
      "97.03% of G is zero\n"
     ]
    }
   ],
   "source": [
    "N = 100 # Number of objects\n",
    "G = TripletsMatrix(N)\n",
    "\n",
    "display(G) # Julia prints larges sparse matrices in this dot format that merely highlights non-zero values. This is much more compact than the full matrix.\n",
    "println()\n",
    "println(\"\"\"While this appears to show only two values in some places inspection of those rows, as below, shows this is not the case.\n",
    "    I was confused as to why, until a friend realised it uses Braille characters to represent the structure, so it isn't a perfect representation.\"\"\")\n",
    "println(\"Row 4, non-zero values:\")\n",
    "println(G[4,:])\n",
    "println()\n",
    "\n",
    "# What % of G is 0?\n",
    "# nnz returns number of stored values. This can include zero if you have told it to store 0 somewhere! dropzeros can be handy to remove nonstructual zeros.\n",
    "percent = (1 - nnz(G) / N^2) * 100\n",
    "println(string(percent) * \"% of G is zero\")"
   ]
  },
  {
   "cell_type": "markdown",
   "metadata": {},
   "source": [
    "# Problem 1.2\n",
    "We are again measuring subsets of objects. The data is the height measurements of the subsets (stacks of objects). The parameters are the heights of the individual objects. This gives us 50 measurements and 50 parameters."
   ]
  },
  {
   "cell_type": "code",
   "execution_count": 3,
   "metadata": {},
   "outputs": [
    {
     "data": {
      "text/plain": [
       "50×50 LowerTriangular{Int64, Matrix{Int64}}:\n",
       " 1  ⋅  ⋅  ⋅  ⋅  ⋅  ⋅  ⋅  ⋅  ⋅  ⋅  ⋅  ⋅  …  ⋅  ⋅  ⋅  ⋅  ⋅  ⋅  ⋅  ⋅  ⋅  ⋅  ⋅  ⋅\n",
       " 1  1  ⋅  ⋅  ⋅  ⋅  ⋅  ⋅  ⋅  ⋅  ⋅  ⋅  ⋅     ⋅  ⋅  ⋅  ⋅  ⋅  ⋅  ⋅  ⋅  ⋅  ⋅  ⋅  ⋅\n",
       " 1  1  1  ⋅  ⋅  ⋅  ⋅  ⋅  ⋅  ⋅  ⋅  ⋅  ⋅     ⋅  ⋅  ⋅  ⋅  ⋅  ⋅  ⋅  ⋅  ⋅  ⋅  ⋅  ⋅\n",
       " 1  1  1  1  ⋅  ⋅  ⋅  ⋅  ⋅  ⋅  ⋅  ⋅  ⋅     ⋅  ⋅  ⋅  ⋅  ⋅  ⋅  ⋅  ⋅  ⋅  ⋅  ⋅  ⋅\n",
       " 1  1  1  1  1  ⋅  ⋅  ⋅  ⋅  ⋅  ⋅  ⋅  ⋅     ⋅  ⋅  ⋅  ⋅  ⋅  ⋅  ⋅  ⋅  ⋅  ⋅  ⋅  ⋅\n",
       " 1  1  1  1  1  1  ⋅  ⋅  ⋅  ⋅  ⋅  ⋅  ⋅  …  ⋅  ⋅  ⋅  ⋅  ⋅  ⋅  ⋅  ⋅  ⋅  ⋅  ⋅  ⋅\n",
       " 1  1  1  1  1  1  1  ⋅  ⋅  ⋅  ⋅  ⋅  ⋅     ⋅  ⋅  ⋅  ⋅  ⋅  ⋅  ⋅  ⋅  ⋅  ⋅  ⋅  ⋅\n",
       " 1  1  1  1  1  1  1  1  ⋅  ⋅  ⋅  ⋅  ⋅     ⋅  ⋅  ⋅  ⋅  ⋅  ⋅  ⋅  ⋅  ⋅  ⋅  ⋅  ⋅\n",
       " 1  1  1  1  1  1  1  1  1  ⋅  ⋅  ⋅  ⋅     ⋅  ⋅  ⋅  ⋅  ⋅  ⋅  ⋅  ⋅  ⋅  ⋅  ⋅  ⋅\n",
       " 1  1  1  1  1  1  1  1  1  1  ⋅  ⋅  ⋅     ⋅  ⋅  ⋅  ⋅  ⋅  ⋅  ⋅  ⋅  ⋅  ⋅  ⋅  ⋅\n",
       " 1  1  1  1  1  1  1  1  1  1  1  ⋅  ⋅  …  ⋅  ⋅  ⋅  ⋅  ⋅  ⋅  ⋅  ⋅  ⋅  ⋅  ⋅  ⋅\n",
       " 1  1  1  1  1  1  1  1  1  1  1  1  ⋅     ⋅  ⋅  ⋅  ⋅  ⋅  ⋅  ⋅  ⋅  ⋅  ⋅  ⋅  ⋅\n",
       " 1  1  1  1  1  1  1  1  1  1  1  1  1     ⋅  ⋅  ⋅  ⋅  ⋅  ⋅  ⋅  ⋅  ⋅  ⋅  ⋅  ⋅\n",
       " ⋮              ⋮              ⋮        ⋱        ⋮              ⋮           \n",
       " 1  1  1  1  1  1  1  1  1  1  1  1  1     1  ⋅  ⋅  ⋅  ⋅  ⋅  ⋅  ⋅  ⋅  ⋅  ⋅  ⋅\n",
       " 1  1  1  1  1  1  1  1  1  1  1  1  1     1  1  ⋅  ⋅  ⋅  ⋅  ⋅  ⋅  ⋅  ⋅  ⋅  ⋅\n",
       " 1  1  1  1  1  1  1  1  1  1  1  1  1  …  1  1  1  ⋅  ⋅  ⋅  ⋅  ⋅  ⋅  ⋅  ⋅  ⋅\n",
       " 1  1  1  1  1  1  1  1  1  1  1  1  1     1  1  1  1  ⋅  ⋅  ⋅  ⋅  ⋅  ⋅  ⋅  ⋅\n",
       " 1  1  1  1  1  1  1  1  1  1  1  1  1     1  1  1  1  1  ⋅  ⋅  ⋅  ⋅  ⋅  ⋅  ⋅\n",
       " 1  1  1  1  1  1  1  1  1  1  1  1  1     1  1  1  1  1  1  ⋅  ⋅  ⋅  ⋅  ⋅  ⋅\n",
       " 1  1  1  1  1  1  1  1  1  1  1  1  1     1  1  1  1  1  1  1  ⋅  ⋅  ⋅  ⋅  ⋅\n",
       " 1  1  1  1  1  1  1  1  1  1  1  1  1  …  1  1  1  1  1  1  1  1  ⋅  ⋅  ⋅  ⋅\n",
       " 1  1  1  1  1  1  1  1  1  1  1  1  1     1  1  1  1  1  1  1  1  1  ⋅  ⋅  ⋅\n",
       " 1  1  1  1  1  1  1  1  1  1  1  1  1     1  1  1  1  1  1  1  1  1  1  ⋅  ⋅\n",
       " 1  1  1  1  1  1  1  1  1  1  1  1  1     1  1  1  1  1  1  1  1  1  1  1  ⋅\n",
       " 1  1  1  1  1  1  1  1  1  1  1  1  1     1  1  1  1  1  1  1  1  1  1  1  1"
      ]
     },
     "metadata": {},
     "output_type": "display_data"
    },
    {
     "name": "stdout",
     "output_type": "stream",
     "text": [
      "49.0% of G is zero\n"
     ]
    }
   ],
   "source": [
    "#= We'll just create NxN matrix filled with our coefficent and make a lower triangular matrix from it\n",
    "I experimented with sparse matrices but they weren't a good fit here. You can only really start using them after LowerTriangular so it just hurts performance. =#\n",
    "\n",
    "using LinearAlgebra\n",
    "\n",
    "N = 50\n",
    "G = LowerTriangular(fill(1, (N, N)))\n",
    "display(G)\n",
    "\n",
    "percent = (1 - count(!iszero, G) / N ^ 2) * 100\n",
    "println(string(percent) * \"% of G is zero\")"
   ]
  },
  {
   "cell_type": "markdown",
   "metadata": {},
   "source": [
    "# Problem 1.3"
   ]
  },
  {
   "cell_type": "code",
   "execution_count": 4,
   "metadata": {},
   "outputs": [
    {
     "data": {
      "text/plain": [
       "11×4 Matrix{Float64}:\n",
       " 1.0   0.0    0.0     0.0\n",
       " 1.0   1.0    1.0     1.0\n",
       " 1.0   2.0    4.0     8.0\n",
       " 1.0   3.0    9.0    27.0\n",
       " 1.0   4.0   16.0    64.0\n",
       " 1.0   5.0   25.0   125.0\n",
       " 1.0   6.0   36.0   216.0\n",
       " 1.0   7.0   49.0   343.0\n",
       " 1.0   8.0   64.0   512.0\n",
       " 1.0   9.0   81.0   729.0\n",
       " 1.0  10.0  100.0  1000.0"
      ]
     },
     "metadata": {},
     "output_type": "display_data"
    }
   ],
   "source": [
    "z = Vector(LinRange(0, 10, 11)) # linear spacing, start=0, stop=10, # of values=11\n",
    "G = [ones(11) z z.^2 z.^3]\n",
    "display(G)"
   ]
  },
  {
   "cell_type": "markdown",
   "metadata": {},
   "source": [
    "# Problem 1.4"
   ]
  },
  {
   "cell_type": "code",
   "execution_count": 49,
   "metadata": {},
   "outputs": [],
   "source": [
    "#= Unfortunately we aren't so lucky as to be able to directly reuse TripletsMatrix. Or rather, we could, but the tweaking we'd have to do after would be suboptimal.\n",
    "This particular solution handles the endpoints by only overaging two values.\n",
    "=#\n",
    "\n",
    "\n",
    "\"\"\"Make NxN square matrix and fill it with triplets of coefficents so as to average groups of three neighbouring points.\n",
    "In non-boundary row with index r, the cells [r, r], [r, r-1], [r, r-2] are filled with 1/3.\n",
    "The first (last) row has been instead given 1/2 in the first (last) two columns so as to average two parameters.\n",
    "Argument a multipes the entire matrix by scalar a.\n",
    "For example RunningAverageMatrix(5) produces the sparse matrix\n",
    "   [0.5  0.5  0    0    0;\n",
    "    0.3  0.3  0.3  0    0;\n",
    "    1    0.3  0.3  0.3  0;\n",
    "    0    0    0.3  0.3  0.3;\n",
    "    0    0    0    0.5  0.5]\n",
    "where 1/3 has been truncated to 0.3 for readability.\n",
    "\"\"\"\n",
    "function RunningAverageMatrix(N::Int, a=1::Number)::SparseMatrixCSC\n",
    "    # Avoid a potential error\n",
    "    if N < 3\n",
    "        error(\"Arguement N should be at least two.\")\n",
    "    end\n",
    "    \n",
    "    # This is COO again\n",
    "    T = 3 * N - 2 # 3*(N-2)+4 = 3*N-2 nonzero values <- 2 and 2 from the inital and final rows and 3*(N-2) from the rest.\n",
    "    col = Vector{Int64}(undef, T) \n",
    "    row = Vector{Int64}(undef, T)\n",
    "    val = Vector{Float64}(undef, T)\n",
    "    k = 3 # This tracks our location in the COO vectors. We start at 3 because we're skipping the first two values for now.\n",
    "    for i = 2:(N-1) # Row index. We start with the second row\n",
    "        for j in i-1:(i+1) # Column index, for non-zero values.\n",
    "            col[k] = j\n",
    "            row[k] = i\n",
    "            val[k] = a\n",
    "            k += 1\n",
    "        end\n",
    "    end\n",
    "    \n",
    "    # Hardcoding is ugly but it works. I didn't need to keep the vector indices corresponding with the LTR order of elements in the matrix but I find it more clear.\n",
    "    col[1] = 1\n",
    "    row[1] = 1\n",
    "    val[1] = (3/2)*a\n",
    "    col[2] = 2\n",
    "    row[2] = 1\n",
    "    val[2] = (3/2)*a\n",
    "    col[T-1] = N-1\n",
    "    row[T-1] = N\n",
    "    val[T-1] = (3/2)*a\n",
    "    col[T] = N\n",
    "    row[T] = N\n",
    "    val[T] = (3/2)*a\n",
    "    \n",
    "    (1/3) * sparse(row, col, val) # Takes our vectors and turns them into a sparse matrix\n",
    "end;"
   ]
  },
  {
   "cell_type": "code",
   "execution_count": 50,
   "metadata": {},
   "outputs": [
    {
     "data": {
      "text/plain": [
       "7×7 SparseMatrixCSC{Float64, Int64} with 19 stored entries:\n",
       " 0.5       0.5        ⋅         ⋅         ⋅         ⋅         ⋅ \n",
       " 0.333333  0.333333  0.333333   ⋅         ⋅         ⋅         ⋅ \n",
       "  ⋅        0.333333  0.333333  0.333333   ⋅         ⋅         ⋅ \n",
       "  ⋅         ⋅        0.333333  0.333333  0.333333   ⋅         ⋅ \n",
       "  ⋅         ⋅         ⋅        0.333333  0.333333  0.333333   ⋅ \n",
       "  ⋅         ⋅         ⋅         ⋅        0.333333  0.333333  0.333333\n",
       "  ⋅         ⋅         ⋅         ⋅         ⋅        0.5       0.5"
      ]
     },
     "metadata": {},
     "output_type": "display_data"
    },
    {
     "name": "stdout",
     "output_type": "stream",
     "text": [
      "61.224489795918366% of G is zero. This percentage increases with the size of the matrix.\n"
     ]
    }
   ],
   "source": [
    "N = 7\n",
    "G = RunningAverageMatrix(N)\n",
    "display(G)\n",
    "\n",
    "percent = (1 - nnz(G) / N^2) * 100\n",
    "println(string(percent) * \"% of G is zero. This percentage increases with the size of the matrix.\")"
   ]
  },
  {
   "cell_type": "markdown",
   "metadata": {},
   "source": [
    "# Problem 1.5\n",
    "\n",
    "We know that\n",
    "$$ \\mathbf{S} = \\mathbf{CF} $$\n",
    "\n",
    "Typically $\\mathbf{S}$ is $s \\times c$, $\\mathbf{C}$ is $s \\times p$ and $\\mathbf{F}$ is $p\\times c$  where $s$ is the number of samples, $c$ is the number of chemicals and $p$ is the number of end-member rocks.\n",
    "\n",
    "Given the constraints in the problem $s=1$ so $\\textbf{S}$ and $\\textbf{C}$ are row vectors and $\\textbf{F}$ is some matrix. $\\textbf{S}$ is the data, $\\textbf{C}$ and $\\textbf{F}$ are typically parameters. However, we know the compositions of the $p$ factors is known we can remove them from the parameters and consider this information an auxilary variable. Then it becomes clear that by taking the transpose of the entire equation we get\n",
    "$$ \\textbf{S}^T = (\\textbf{CF})^T = \\textbf{F}^T \\textbf{C}^T$$\n",
    "Where $\\textbf{S}^T = \\textbf{d}$, $\\textbf{F}^T = \\textbf{G}$ and $\\textbf{C}^T = \\textbf{m}$.\n",
    "\n",
    "This assumes we know the composition of the end factors exactly."
   ]
  },
  {
   "cell_type": "markdown",
   "metadata": {},
   "source": [
    "# Problem 2.1"
   ]
  },
  {
   "cell_type": "code",
   "execution_count": 7,
   "metadata": {},
   "outputs": [
    {
     "name": "stdout",
     "output_type": "stream",
     "text": [
      "Mean: 0.5\n",
      "Variance: 0.08333333333333333\n"
     ]
    }
   ],
   "source": [
    "using Distributions\n",
    "\n",
    "u = Uniform()\n",
    "println(\"Mean: \" * string(mean(u)))\n",
    "println(\"Variance: \" * string(var(u)))"
   ]
  },
  {
   "cell_type": "markdown",
   "metadata": {},
   "source": [
    "Or manually (note use of bar for expected value - it renders better)\n",
    "\n",
    "$$ \\bar{d} = \\int_{-\\infty}^{\\infty} d p(d) \\mathrm{d}d $$\n",
    "$$ = \\int_0^1 d \\mathrm{d}d $$\n",
    "$$ = \\left[ \\frac{d^2}{2} \\right]^1_0 $$\n",
    "$$ = \\frac{1^2}{2} - \\frac{0^2}{2} = \\frac{1}{2} $$\n",
    "and\n",
    "$$ \\sigma^2 = \\int_{-\\infty}^{\\infty} (d-\\bar{d})^2 p(d) \\mathrm{d}d $$\n",
    "$$ = \\int_0^1 (d-0.5)^2 \\mathrm{d}d $$\n",
    "$$ = \\left[ \\frac{1}{3}(d-0.5)^3 \\right]^1_0 $$\n",
    "$$ = \\frac{1}{3} \\left( (1-0.5)^3 - (0-0.5)^3 \\right) $$\n",
    "$$ = \\frac{1}{3} \\left( 0.5^3 - (-0.5)^3 \\right) $$\n",
    "$$ = \\frac{1}{12} \\approx 0.08333 $$"
   ]
  },
  {
   "cell_type": "markdown",
   "metadata": {},
   "source": [
    "# Problem 2.2"
   ]
  },
  {
   "cell_type": "markdown",
   "metadata": {},
   "source": [
    "$$ E=d^2 $$\n",
    "$$ d=\\pm \\sqrt{E} $$\n",
    "$$ \\left|\\frac{\\mathrm{d}d}{\\mathrm{d}E}\\right| = \\frac{1}{2\\sqrt{E}} $$\n",
    "So using\n",
    "$$ p(m) = p[d(m)] \\left|\\frac{\\mathrm{d}d}{\\mathrm{d}m}\\right| $$\n",
    "we get\n",
    "$$ p(E) = \\frac{1}{2\\sqrt{2\\pi E}}\\exp\\left[ \\frac{(\\sqrt{E} - \\bar{d})^2}{2\\sigma^2} \\right] $$"
   ]
  }
 ],
 "metadata": {
  "kernelspec": {
   "display_name": "Julia 1.6.1",
   "language": "julia",
   "name": "julia-1.6"
  },
  "language_info": {
   "file_extension": ".jl",
   "mimetype": "application/julia",
   "name": "julia",
   "version": "1.6.1"
  }
 },
 "nbformat": 4,
 "nbformat_minor": 4
}
